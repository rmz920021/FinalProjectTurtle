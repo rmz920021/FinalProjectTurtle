{
 "cells": [
  {
   "cell_type": "code",
   "execution_count": 2,
   "id": "e99ee0c4-0f16-4a7a-806a-639f92a8a92c",
   "metadata": {
    "tags": []
   },
   "outputs": [],
   "source": [
    "import cv2\n",
    "import matplotlib.pyplot as plt"
   ]
  },
  {
   "cell_type": "code",
   "execution_count": 1,
   "id": "86a9670b-8fe5-4b0d-93df-63970eb26266",
   "metadata": {
    "tags": []
   },
   "outputs": [
    {
     "ename": "NameError",
     "evalue": "name 'cv2' is not defined",
     "output_type": "error",
     "traceback": [
      "\u001B[1;31m---------------------------------------------------------------------------\u001B[0m",
      "\u001B[1;31mNameError\u001B[0m                                 Traceback (most recent call last)",
      "Input \u001B[1;32mIn [1]\u001B[0m, in \u001B[0;36m<cell line: 4>\u001B[1;34m()\u001B[0m\n\u001B[0;32m      2\u001B[0m image1_path \u001B[38;5;241m=\u001B[39m \u001B[38;5;124m\"\u001B[39m\u001B[38;5;124m../Assets/set-2_Color.png\u001B[39m\u001B[38;5;124m\"\u001B[39m  \u001B[38;5;66;03m# Reference image\u001B[39;00m\n\u001B[0;32m      3\u001B[0m image2_path \u001B[38;5;241m=\u001B[39m \u001B[38;5;124m\"\u001B[39m\u001B[38;5;124m../Assets/set-2-2_Color.png\u001B[39m\u001B[38;5;124m\"\u001B[39m  \u001B[38;5;66;03m# Target image\u001B[39;00m\n\u001B[1;32m----> 4\u001B[0m image1 \u001B[38;5;241m=\u001B[39m \u001B[43mcv2\u001B[49m\u001B[38;5;241m.\u001B[39mimread(image1_path, cv2\u001B[38;5;241m.\u001B[39mIMREAD_GRAYSCALE)\n\u001B[0;32m      5\u001B[0m image2 \u001B[38;5;241m=\u001B[39m cv2\u001B[38;5;241m.\u001B[39mimread(image2_path, cv2\u001B[38;5;241m.\u001B[39mIMREAD_GRAYSCALE)\n\u001B[0;32m      7\u001B[0m \u001B[38;5;66;03m# Initialize ORB detector\u001B[39;00m\n",
      "\u001B[1;31mNameError\u001B[0m: name 'cv2' is not defined"
     ]
    }
   ],
   "source": [
    "\n",
    "# Load images (replace with your image paths)\n",
    "image1_path = \"../Assets/set-2_Color.png\"  # Reference image\n",
    "image2_path = \"../Assets/set-2-2_Color.png\"  # Target image\n",
    "image1 = cv2.imread(image1_path, cv2.IMREAD_GRAYSCALE)\n",
    "image2 = cv2.imread(image2_path, cv2.IMREAD_GRAYSCALE)\n",
    "\n",
    "# Initialize ORB detector\n",
    "orb = cv2.ORB_create()\n",
    "\n",
    "# Detect and compute features\n",
    "keypoints1, descriptors1 = orb.detectAndCompute(image1, None)\n",
    "keypoints2, descriptors2 = orb.detectAndCompute(image2, None)\n",
    "\n",
    "# Initialize Brute Force Matcher\n",
    "bf = cv2.BFMatcher(cv2.NORM_HAMMING, crossCheck=True)\n",
    "\n",
    "# Match descriptors\n",
    "matches = bf.match(descriptors1, descriptors2)\n",
    "\n",
    "# Sort matches by distance (lower distance = better match)\n",
    "matches = sorted(matches, key=lambda x: x.distance)\n",
    "\n",
    "# Draw top 10 matches\n",
    "matched_image = cv2.drawMatches(\n",
    "    image1, keypoints1, image2, keypoints2, matches[:10], None, flags=cv2.DrawMatchesFlags_NOT_DRAW_SINGLE_POINTS\n",
    ")\n",
    "\n",
    "# Display results\n",
    "plt.figure(figsize=(10, 6))\n",
    "plt.imshow(matched_image)\n",
    "plt.title(\"ORB Feature Matching\")\n",
    "plt.axis(\"off\")\n",
    "plt.show()\n",
    "\n"
   ]
  }
 ],
 "metadata": {
  "kernelspec": {
   "display_name": "Python 3 (ipykernel)",
   "language": "python",
   "name": "python3"
  },
  "language_info": {
   "codemirror_mode": {
    "name": "ipython",
    "version": 3
   },
   "file_extension": ".py",
   "mimetype": "text/x-python",
   "name": "python",
   "nbconvert_exporter": "python",
   "pygments_lexer": "ipython3",
   "version": "3.7.16"
  }
 },
 "nbformat": 4,
 "nbformat_minor": 5
}